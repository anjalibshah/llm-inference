{
 "cells": [
  {
   "cell_type": "markdown",
   "metadata": {},
   "source": [
    "# TensorRT-LLM Speculative Decoding \n",
    "### Boost AI Inference Throughout by Up to 3.6x"
   ]
  },
  {
   "cell_type": "markdown",
   "metadata": {},
   "source": [
    "In this notebook you'll learn how to use NVIDIA's [TensorRT-LLM](https://developer.nvidia.com/tensorrt#section-inference-for-llms) to boost inference throughput using speculative decoding. TensorRT-LLM is an open-source library that provides blazing-fast inference support for numerous popular large language models [(LLMs)](https://www.nvidia.com/en-us/glossary/large-language-models/) on NVIDIA GPUs. By adding support for speculative decoding on single GPU and single node multi-GPU, the library further expands its supported optimizations to provide best performance for generative AI applications. \n",
    "\n",
    "Speculative decoding, also referred to as [speculative sampling](https://arxiv.org/abs/2302.01318), works by paying a small additional computation cost to speculatively generate the next several tokens, and then using the target model to perform a built-in verification step to ensure the quality of output generation while giving a throughput boost. \n"
   ]
  },
  {
   "cell_type": "markdown",
   "metadata": {},
   "source": [
    "<div style=\"text-align: center; font-size: 16px;\">\n",
    "    <p><b>Figure 1. Speculating decoding algorithm</b></p>\n",
    "    <img src=\"Draft Target Speculative Decoding.jpg\" width=\"600\" height=\"500\" align=\"center\"/>\n",
    "</div>"
   ]
  },
  {
   "cell_type": "markdown",
   "metadata": {},
   "source": []
  },
  {
   "cell_type": "code",
   "execution_count": 4,
   "metadata": {},
   "outputs": [
    {
     "data": {
      "text/html": [
       "<video src=\"./speculative_decoding_trt-llm.mp4\" controls  width=\"800\"  height=\"500\">\n",
       "      Your browser does not support the <code>video</code> element.\n",
       "    </video>"
      ],
      "text/plain": [
       "<IPython.core.display.Video object>"
      ]
     },
     "execution_count": 4,
     "metadata": {},
     "output_type": "execute_result"
    }
   ],
   "source": [
    "%matplotlib inline\n",
    "from IPython.display import Video\n",
    "Video('./speculative_decoding_trt-llm.mp4', width=800, height=500)"
   ]
  }
 ],
 "metadata": {
  "kernelspec": {
   "display_name": "Python 3 (ipykernel)",
   "language": "python",
   "name": "python3"
  }
 },
 "nbformat": 4,
 "nbformat_minor": 2
}
